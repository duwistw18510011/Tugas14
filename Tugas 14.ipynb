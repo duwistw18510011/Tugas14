{
 "cells": [
  {
   "cell_type": "raw",
   "id": "bf372686",
   "metadata": {},
   "source": [
    "@attribute 'Age' { 22,26,28,27,32,36,33,23,20,29,25,37,24,18,30,40,31,19,21,35,17,38 }\n",
    "@attribute 'Delivery number' { 1,2,3,4 }\n",
    "@attribute 'Delivery time' { 0,1,2 } -> {0 = timely , 1 = premature , 2 = latecomer}\n",
    "@attribute 'Blood of Pressure' { 2,1,0 } -> {0 = low , 1 = normal , 2 = high }\n",
    "@attribute 'Heart Problem' { 1,0 } -> {0 = apt, 1 = inept }\n",
    "\n",
    "@attribute Caesarian { 0,1 } -> {0 = No, 1 = Yes }"
   ]
  },
  {
   "cell_type": "code",
   "execution_count": 2,
   "id": "89513388",
   "metadata": {},
   "outputs": [],
   "source": [
    "import numpy as np\n",
    "import pandas as pd\n",
    "import matplotlib.pyplot as plt"
   ]
  },
  {
   "cell_type": "raw",
   "id": "1e99e2ee",
   "metadata": {},
   "source": [
    "Import Dataset"
   ]
  },
  {
   "cell_type": "code",
   "execution_count": 3,
   "id": "d966194e",
   "metadata": {},
   "outputs": [],
   "source": [
    "data = pd.read_excel('D:/Iwud/Data Mining/caesarian.xlsx')"
   ]
  },
  {
   "cell_type": "code",
   "execution_count": 4,
   "id": "866cf182",
   "metadata": {},
   "outputs": [
    {
     "data": {
      "text/html": [
       "<div>\n",
       "<style scoped>\n",
       "    .dataframe tbody tr th:only-of-type {\n",
       "        vertical-align: middle;\n",
       "    }\n",
       "\n",
       "    .dataframe tbody tr th {\n",
       "        vertical-align: top;\n",
       "    }\n",
       "\n",
       "    .dataframe thead th {\n",
       "        text-align: right;\n",
       "    }\n",
       "</style>\n",
       "<table border=\"1\" class=\"dataframe\">\n",
       "  <thead>\n",
       "    <tr style=\"text-align: right;\">\n",
       "      <th></th>\n",
       "      <th>Age</th>\n",
       "      <th>Delivery Number</th>\n",
       "      <th>Delivery Time</th>\n",
       "      <th>Blood of Pressure</th>\n",
       "      <th>Heart Problem</th>\n",
       "      <th>Caesarian</th>\n",
       "    </tr>\n",
       "  </thead>\n",
       "  <tbody>\n",
       "    <tr>\n",
       "      <th>0</th>\n",
       "      <td>22</td>\n",
       "      <td>1</td>\n",
       "      <td>0</td>\n",
       "      <td>2</td>\n",
       "      <td>0</td>\n",
       "      <td>0</td>\n",
       "    </tr>\n",
       "    <tr>\n",
       "      <th>1</th>\n",
       "      <td>26</td>\n",
       "      <td>2</td>\n",
       "      <td>0</td>\n",
       "      <td>1</td>\n",
       "      <td>0</td>\n",
       "      <td>1</td>\n",
       "    </tr>\n",
       "    <tr>\n",
       "      <th>2</th>\n",
       "      <td>26</td>\n",
       "      <td>2</td>\n",
       "      <td>1</td>\n",
       "      <td>1</td>\n",
       "      <td>0</td>\n",
       "      <td>0</td>\n",
       "    </tr>\n",
       "    <tr>\n",
       "      <th>3</th>\n",
       "      <td>28</td>\n",
       "      <td>1</td>\n",
       "      <td>0</td>\n",
       "      <td>2</td>\n",
       "      <td>0</td>\n",
       "      <td>0</td>\n",
       "    </tr>\n",
       "    <tr>\n",
       "      <th>4</th>\n",
       "      <td>22</td>\n",
       "      <td>2</td>\n",
       "      <td>0</td>\n",
       "      <td>1</td>\n",
       "      <td>0</td>\n",
       "      <td>1</td>\n",
       "    </tr>\n",
       "  </tbody>\n",
       "</table>\n",
       "</div>"
      ],
      "text/plain": [
       "   Age  Delivery Number  Delivery Time  Blood of Pressure  Heart Problem  \\\n",
       "0   22                1              0                  2              0   \n",
       "1   26                2              0                  1              0   \n",
       "2   26                2              1                  1              0   \n",
       "3   28                1              0                  2              0   \n",
       "4   22                2              0                  1              0   \n",
       "\n",
       "   Caesarian  \n",
       "0          0  \n",
       "1          1  \n",
       "2          0  \n",
       "3          0  \n",
       "4          1  "
      ]
     },
     "execution_count": 4,
     "metadata": {},
     "output_type": "execute_result"
    }
   ],
   "source": [
    "data.head()"
   ]
  },
  {
   "cell_type": "code",
   "execution_count": 5,
   "id": "26375480",
   "metadata": {},
   "outputs": [
    {
     "data": {
      "text/plain": [
       "(80, 6)"
      ]
     },
     "execution_count": 5,
     "metadata": {},
     "output_type": "execute_result"
    }
   ],
   "source": [
    "data.shape"
   ]
  },
  {
   "cell_type": "raw",
   "id": "4404bd42",
   "metadata": {},
   "source": [
    "Analisa data Caesarian"
   ]
  },
  {
   "cell_type": "code",
   "execution_count": 6,
   "id": "85c6bac1",
   "metadata": {},
   "outputs": [
    {
     "data": {
      "text/plain": [
       "1    46\n",
       "0    34\n",
       "Name: Caesarian, dtype: int64"
      ]
     },
     "execution_count": 6,
     "metadata": {},
     "output_type": "execute_result"
    }
   ],
   "source": [
    "data['Caesarian'].value_counts()"
   ]
  },
  {
   "cell_type": "raw",
   "id": "fd3538ab",
   "metadata": {},
   "source": [
    "Probabilitas Caesarian 1 dan 0"
   ]
  },
  {
   "cell_type": "code",
   "execution_count": 7,
   "id": "5ee210e6",
   "metadata": {},
   "outputs": [],
   "source": [
    "Pc1 = 46/80\n",
    "Pc0 = 34/80"
   ]
  },
  {
   "cell_type": "code",
   "execution_count": 8,
   "id": "eef2c489",
   "metadata": {},
   "outputs": [
    {
     "name": "stdout",
     "output_type": "stream",
     "text": [
      "0.575\n"
     ]
    }
   ],
   "source": [
    "print(Pc1)"
   ]
  },
  {
   "cell_type": "code",
   "execution_count": 9,
   "id": "9b5211cd",
   "metadata": {},
   "outputs": [
    {
     "name": "stdout",
     "output_type": "stream",
     "text": [
      "0.425\n"
     ]
    }
   ],
   "source": [
    "print(Pc0)"
   ]
  },
  {
   "cell_type": "raw",
   "id": "d36f07ff",
   "metadata": {},
   "source": [
    "Perhitungan terhadap jumlah data"
   ]
  },
  {
   "cell_type": "code",
   "execution_count": 11,
   "id": "e6284f2f",
   "metadata": {},
   "outputs": [
    {
     "data": {
      "text/html": [
       "<div>\n",
       "<style scoped>\n",
       "    .dataframe tbody tr th:only-of-type {\n",
       "        vertical-align: middle;\n",
       "    }\n",
       "\n",
       "    .dataframe tbody tr th {\n",
       "        vertical-align: top;\n",
       "    }\n",
       "\n",
       "    .dataframe thead th {\n",
       "        text-align: right;\n",
       "    }\n",
       "</style>\n",
       "<table border=\"1\" class=\"dataframe\">\n",
       "  <thead>\n",
       "    <tr style=\"text-align: right;\">\n",
       "      <th>Caesarian</th>\n",
       "      <th>0</th>\n",
       "      <th>1</th>\n",
       "    </tr>\n",
       "    <tr>\n",
       "      <th>Delivery Number</th>\n",
       "      <th></th>\n",
       "      <th></th>\n",
       "    </tr>\n",
       "  </thead>\n",
       "  <tbody>\n",
       "    <tr>\n",
       "      <th>1</th>\n",
       "      <td>19</td>\n",
       "      <td>22</td>\n",
       "    </tr>\n",
       "    <tr>\n",
       "      <th>2</th>\n",
       "      <td>12</td>\n",
       "      <td>15</td>\n",
       "    </tr>\n",
       "    <tr>\n",
       "      <th>3</th>\n",
       "      <td>3</td>\n",
       "      <td>7</td>\n",
       "    </tr>\n",
       "    <tr>\n",
       "      <th>4</th>\n",
       "      <td>0</td>\n",
       "      <td>2</td>\n",
       "    </tr>\n",
       "  </tbody>\n",
       "</table>\n",
       "</div>"
      ],
      "text/plain": [
       "Caesarian         0   1\n",
       "Delivery Number        \n",
       "1                19  22\n",
       "2                12  15\n",
       "3                 3   7\n",
       "4                 0   2"
      ]
     },
     "execution_count": 11,
     "metadata": {},
     "output_type": "execute_result"
    }
   ],
   "source": [
    "pd.crosstab(data['Delivery Number'], data['Caesarian'])"
   ]
  },
  {
   "cell_type": "code",
   "execution_count": 13,
   "id": "18041df8",
   "metadata": {},
   "outputs": [
    {
     "name": "stdout",
     "output_type": "stream",
     "text": [
      "0.4782608695652174\n"
     ]
    }
   ],
   "source": [
    "Pdn1c0 = 19/34\n",
    "Pdn2c0 = 12/34\n",
    "Pdn3c0 = 3/34\n",
    "Pdn4c0 = 0/34\n",
    "\n",
    "Pdn1c1 = 22/46\n",
    "Pdn2c1 = 15/46\n",
    "Pdn3c1 = 7/46\n",
    "Pdn4c1 = 2/46\n",
    "\n",
    "Pdn1 = 41/80\n",
    "Pdn2 = 27/80\n",
    "Pdn3 = 10/80\n",
    "Pdn4 = 2/80\n",
    "\n",
    "print(Pdn1c1)"
   ]
  },
  {
   "cell_type": "code",
   "execution_count": 14,
   "id": "f4c71741",
   "metadata": {},
   "outputs": [],
   "source": [
    "# Jika P(A|B)\n",
    "# Apabila kondisi\n",
    "# P (B) = Pdn2\n",
    "# P (A) = 1(yes) Caesarian\n",
    "# P(B|A) = P Delivery Number 1|Yes Caesarian"
   ]
  },
  {
   "cell_type": "code",
   "execution_count": 15,
   "id": "7ec445d4",
   "metadata": {},
   "outputs": [
    {
     "name": "stdout",
     "output_type": "stream",
     "text": [
      "0.4634146341463415\n"
     ]
    }
   ],
   "source": [
    "P0dn1 = (Pdn1c0*Pc0)/Pdn1\n",
    "print(P0dn1)"
   ]
  },
  {
   "cell_type": "code",
   "execution_count": 16,
   "id": "f6fe6f18",
   "metadata": {},
   "outputs": [
    {
     "name": "stdout",
     "output_type": "stream",
     "text": [
      "0.5365853658536586\n"
     ]
    }
   ],
   "source": [
    "P1dn1 = (Pdn1c1*Pc1)/Pdn1\n",
    "print(P1dn1)"
   ]
  },
  {
   "cell_type": "code",
   "execution_count": 17,
   "id": "c2bd0868",
   "metadata": {},
   "outputs": [
    {
     "name": "stdout",
     "output_type": "stream",
     "text": [
      "0.4634146341463415\n",
      "0.5365853658536586\n"
     ]
    }
   ],
   "source": [
    "# Jadi probabilitas (Caesarian|Delivery Number 1) > dibandingkan dengan probabilitas (No Caesarian | Delivery Number 1)\n",
    "print(P0dn1)\n",
    "print(P1dn1)"
   ]
  },
  {
   "cell_type": "raw",
   "id": "ec24a618",
   "metadata": {},
   "source": [
    "Studi Kasus 1"
   ]
  },
  {
   "cell_type": "code",
   "execution_count": 18,
   "id": "849e167f",
   "metadata": {},
   "outputs": [],
   "source": [
    "# Jika kondisi B dimana\n",
    "# Age = 26\n",
    "# Delivery Number = 2\n",
    "# Delivery Time = 1\n",
    "# Blood of Pressure = 1\n",
    "# Heart Problem = 1\n",
    "# A = Caesarian\n",
    "# P(A|B) = P(Caesarian|Age26, Delivery Number 2, Delivery Time 1, Blood of Pressure 1, Heart Problem 1)"
   ]
  },
  {
   "cell_type": "code",
   "execution_count": 22,
   "id": "fa9dce2c",
   "metadata": {},
   "outputs": [
    {
     "data": {
      "text/html": [
       "<div>\n",
       "<style scoped>\n",
       "    .dataframe tbody tr th:only-of-type {\n",
       "        vertical-align: middle;\n",
       "    }\n",
       "\n",
       "    .dataframe tbody tr th {\n",
       "        vertical-align: top;\n",
       "    }\n",
       "\n",
       "    .dataframe thead th {\n",
       "        text-align: right;\n",
       "    }\n",
       "</style>\n",
       "<table border=\"1\" class=\"dataframe\">\n",
       "  <thead>\n",
       "    <tr style=\"text-align: right;\">\n",
       "      <th>Caesarian</th>\n",
       "      <th>0</th>\n",
       "      <th>1</th>\n",
       "    </tr>\n",
       "    <tr>\n",
       "      <th>Age</th>\n",
       "      <th></th>\n",
       "      <th></th>\n",
       "    </tr>\n",
       "  </thead>\n",
       "  <tbody>\n",
       "    <tr>\n",
       "      <th>17</th>\n",
       "      <td>0</td>\n",
       "      <td>1</td>\n",
       "    </tr>\n",
       "    <tr>\n",
       "      <th>18</th>\n",
       "      <td>1</td>\n",
       "      <td>1</td>\n",
       "    </tr>\n",
       "    <tr>\n",
       "      <th>19</th>\n",
       "      <td>0</td>\n",
       "      <td>2</td>\n",
       "    </tr>\n",
       "    <tr>\n",
       "      <th>20</th>\n",
       "      <td>1</td>\n",
       "      <td>2</td>\n",
       "    </tr>\n",
       "    <tr>\n",
       "      <th>21</th>\n",
       "      <td>0</td>\n",
       "      <td>2</td>\n",
       "    </tr>\n",
       "    <tr>\n",
       "      <th>22</th>\n",
       "      <td>2</td>\n",
       "      <td>2</td>\n",
       "    </tr>\n",
       "    <tr>\n",
       "      <th>23</th>\n",
       "      <td>1</td>\n",
       "      <td>0</td>\n",
       "    </tr>\n",
       "    <tr>\n",
       "      <th>24</th>\n",
       "      <td>1</td>\n",
       "      <td>1</td>\n",
       "    </tr>\n",
       "    <tr>\n",
       "      <th>25</th>\n",
       "      <td>5</td>\n",
       "      <td>2</td>\n",
       "    </tr>\n",
       "    <tr>\n",
       "      <th>26</th>\n",
       "      <td>6</td>\n",
       "      <td>4</td>\n",
       "    </tr>\n",
       "    <tr>\n",
       "      <th>27</th>\n",
       "      <td>3</td>\n",
       "      <td>4</td>\n",
       "    </tr>\n",
       "    <tr>\n",
       "      <th>28</th>\n",
       "      <td>3</td>\n",
       "      <td>3</td>\n",
       "    </tr>\n",
       "    <tr>\n",
       "      <th>29</th>\n",
       "      <td>1</td>\n",
       "      <td>5</td>\n",
       "    </tr>\n",
       "    <tr>\n",
       "      <th>30</th>\n",
       "      <td>2</td>\n",
       "      <td>1</td>\n",
       "    </tr>\n",
       "    <tr>\n",
       "      <th>31</th>\n",
       "      <td>3</td>\n",
       "      <td>0</td>\n",
       "    </tr>\n",
       "    <tr>\n",
       "      <th>32</th>\n",
       "      <td>1</td>\n",
       "      <td>7</td>\n",
       "    </tr>\n",
       "    <tr>\n",
       "      <th>33</th>\n",
       "      <td>2</td>\n",
       "      <td>3</td>\n",
       "    </tr>\n",
       "    <tr>\n",
       "      <th>35</th>\n",
       "      <td>1</td>\n",
       "      <td>1</td>\n",
       "    </tr>\n",
       "    <tr>\n",
       "      <th>36</th>\n",
       "      <td>1</td>\n",
       "      <td>2</td>\n",
       "    </tr>\n",
       "    <tr>\n",
       "      <th>37</th>\n",
       "      <td>0</td>\n",
       "      <td>1</td>\n",
       "    </tr>\n",
       "    <tr>\n",
       "      <th>38</th>\n",
       "      <td>0</td>\n",
       "      <td>1</td>\n",
       "    </tr>\n",
       "    <tr>\n",
       "      <th>40</th>\n",
       "      <td>0</td>\n",
       "      <td>1</td>\n",
       "    </tr>\n",
       "  </tbody>\n",
       "</table>\n",
       "</div>"
      ],
      "text/plain": [
       "Caesarian  0  1\n",
       "Age            \n",
       "17         0  1\n",
       "18         1  1\n",
       "19         0  2\n",
       "20         1  2\n",
       "21         0  2\n",
       "22         2  2\n",
       "23         1  0\n",
       "24         1  1\n",
       "25         5  2\n",
       "26         6  4\n",
       "27         3  4\n",
       "28         3  3\n",
       "29         1  5\n",
       "30         2  1\n",
       "31         3  0\n",
       "32         1  7\n",
       "33         2  3\n",
       "35         1  1\n",
       "36         1  2\n",
       "37         0  1\n",
       "38         0  1\n",
       "40         0  1"
      ]
     },
     "execution_count": 22,
     "metadata": {},
     "output_type": "execute_result"
    }
   ],
   "source": [
    "pd.crosstab(data['Age'], data['Caesarian'])"
   ]
  },
  {
   "cell_type": "code",
   "execution_count": 23,
   "id": "4b573c7f",
   "metadata": {},
   "outputs": [],
   "source": [
    "P0Age260 = 28/34\n",
    "P1Age260 = 6/34\n",
    "\n",
    "P0Age261 = 42/46\n",
    "P1Age261 = 4/46\n",
    "\n",
    "P0Age26 = 6/80\n",
    "P1Age26 = 74/80"
   ]
  },
  {
   "cell_type": "code",
   "execution_count": 24,
   "id": "2828d091",
   "metadata": {},
   "outputs": [
    {
     "data": {
      "text/html": [
       "<div>\n",
       "<style scoped>\n",
       "    .dataframe tbody tr th:only-of-type {\n",
       "        vertical-align: middle;\n",
       "    }\n",
       "\n",
       "    .dataframe tbody tr th {\n",
       "        vertical-align: top;\n",
       "    }\n",
       "\n",
       "    .dataframe thead th {\n",
       "        text-align: right;\n",
       "    }\n",
       "</style>\n",
       "<table border=\"1\" class=\"dataframe\">\n",
       "  <thead>\n",
       "    <tr style=\"text-align: right;\">\n",
       "      <th>Caesarian</th>\n",
       "      <th>0</th>\n",
       "      <th>1</th>\n",
       "    </tr>\n",
       "    <tr>\n",
       "      <th>Delivery Number</th>\n",
       "      <th></th>\n",
       "      <th></th>\n",
       "    </tr>\n",
       "  </thead>\n",
       "  <tbody>\n",
       "    <tr>\n",
       "      <th>1</th>\n",
       "      <td>19</td>\n",
       "      <td>22</td>\n",
       "    </tr>\n",
       "    <tr>\n",
       "      <th>2</th>\n",
       "      <td>12</td>\n",
       "      <td>15</td>\n",
       "    </tr>\n",
       "    <tr>\n",
       "      <th>3</th>\n",
       "      <td>3</td>\n",
       "      <td>7</td>\n",
       "    </tr>\n",
       "    <tr>\n",
       "      <th>4</th>\n",
       "      <td>0</td>\n",
       "      <td>2</td>\n",
       "    </tr>\n",
       "  </tbody>\n",
       "</table>\n",
       "</div>"
      ],
      "text/plain": [
       "Caesarian         0   1\n",
       "Delivery Number        \n",
       "1                19  22\n",
       "2                12  15\n",
       "3                 3   7\n",
       "4                 0   2"
      ]
     },
     "execution_count": 24,
     "metadata": {},
     "output_type": "execute_result"
    }
   ],
   "source": [
    "pd.crosstab(data['Delivery Number'], data['Caesarian'])"
   ]
  },
  {
   "cell_type": "code",
   "execution_count": 25,
   "id": "1a97aede",
   "metadata": {},
   "outputs": [
    {
     "data": {
      "text/html": [
       "<div>\n",
       "<style scoped>\n",
       "    .dataframe tbody tr th:only-of-type {\n",
       "        vertical-align: middle;\n",
       "    }\n",
       "\n",
       "    .dataframe tbody tr th {\n",
       "        vertical-align: top;\n",
       "    }\n",
       "\n",
       "    .dataframe thead th {\n",
       "        text-align: right;\n",
       "    }\n",
       "</style>\n",
       "<table border=\"1\" class=\"dataframe\">\n",
       "  <thead>\n",
       "    <tr style=\"text-align: right;\">\n",
       "      <th>Caesarian</th>\n",
       "      <th>0</th>\n",
       "      <th>1</th>\n",
       "    </tr>\n",
       "    <tr>\n",
       "      <th>Delivery Time</th>\n",
       "      <th></th>\n",
       "      <th></th>\n",
       "    </tr>\n",
       "  </thead>\n",
       "  <tbody>\n",
       "    <tr>\n",
       "      <th>0</th>\n",
       "      <td>16</td>\n",
       "      <td>30</td>\n",
       "    </tr>\n",
       "    <tr>\n",
       "      <th>1</th>\n",
       "      <td>9</td>\n",
       "      <td>8</td>\n",
       "    </tr>\n",
       "    <tr>\n",
       "      <th>2</th>\n",
       "      <td>9</td>\n",
       "      <td>8</td>\n",
       "    </tr>\n",
       "  </tbody>\n",
       "</table>\n",
       "</div>"
      ],
      "text/plain": [
       "Caesarian       0   1\n",
       "Delivery Time        \n",
       "0              16  30\n",
       "1               9   8\n",
       "2               9   8"
      ]
     },
     "execution_count": 25,
     "metadata": {},
     "output_type": "execute_result"
    }
   ],
   "source": [
    "pd.crosstab(data['Delivery Time'], data['Caesarian'])"
   ]
  },
  {
   "cell_type": "code",
   "execution_count": 26,
   "id": "5510c45c",
   "metadata": {},
   "outputs": [],
   "source": [
    "P0dt0 = 16/34\n",
    "P1dt0 = 9/34\n",
    "P2dt0 = 9/34\n",
    "\n",
    "P0dt1 = 30/46\n",
    "P1dt1 = 8/46\n",
    "P2dt1 = 8/46\n",
    "\n",
    "Pdt0 = 36/80\n",
    "Pdt1 = 17/80\n",
    "Pdt2 = 17/80"
   ]
  },
  {
   "cell_type": "code",
   "execution_count": 27,
   "id": "ad8cb8e0",
   "metadata": {},
   "outputs": [
    {
     "data": {
      "text/html": [
       "<div>\n",
       "<style scoped>\n",
       "    .dataframe tbody tr th:only-of-type {\n",
       "        vertical-align: middle;\n",
       "    }\n",
       "\n",
       "    .dataframe tbody tr th {\n",
       "        vertical-align: top;\n",
       "    }\n",
       "\n",
       "    .dataframe thead th {\n",
       "        text-align: right;\n",
       "    }\n",
       "</style>\n",
       "<table border=\"1\" class=\"dataframe\">\n",
       "  <thead>\n",
       "    <tr style=\"text-align: right;\">\n",
       "      <th>Caesarian</th>\n",
       "      <th>0</th>\n",
       "      <th>1</th>\n",
       "    </tr>\n",
       "    <tr>\n",
       "      <th>Blood of Pressure</th>\n",
       "      <th></th>\n",
       "      <th></th>\n",
       "    </tr>\n",
       "  </thead>\n",
       "  <tbody>\n",
       "    <tr>\n",
       "      <th>0</th>\n",
       "      <td>5</td>\n",
       "      <td>15</td>\n",
       "    </tr>\n",
       "    <tr>\n",
       "      <th>1</th>\n",
       "      <td>23</td>\n",
       "      <td>17</td>\n",
       "    </tr>\n",
       "    <tr>\n",
       "      <th>2</th>\n",
       "      <td>6</td>\n",
       "      <td>14</td>\n",
       "    </tr>\n",
       "  </tbody>\n",
       "</table>\n",
       "</div>"
      ],
      "text/plain": [
       "Caesarian           0   1\n",
       "Blood of Pressure        \n",
       "0                   5  15\n",
       "1                  23  17\n",
       "2                   6  14"
      ]
     },
     "execution_count": 27,
     "metadata": {},
     "output_type": "execute_result"
    }
   ],
   "source": [
    "pd.crosstab(data['Blood of Pressure'], data['Caesarian'])"
   ]
  },
  {
   "cell_type": "code",
   "execution_count": 28,
   "id": "0a955958",
   "metadata": {},
   "outputs": [],
   "source": [
    "P0bp0 = 5/34\n",
    "P1bp0 = 23/34\n",
    "P2bp0 = 6/34\n",
    "\n",
    "P0bp1 = 15/46\n",
    "P1bp1 = 17/46\n",
    "P2bp2 = 14/46\n",
    "\n",
    "Pbp0 = 20/80\n",
    "Pbp1 = 40/80\n",
    "Pbp2 = 20/80"
   ]
  },
  {
   "cell_type": "code",
   "execution_count": 29,
   "id": "59b1774d",
   "metadata": {},
   "outputs": [
    {
     "data": {
      "text/html": [
       "<div>\n",
       "<style scoped>\n",
       "    .dataframe tbody tr th:only-of-type {\n",
       "        vertical-align: middle;\n",
       "    }\n",
       "\n",
       "    .dataframe tbody tr th {\n",
       "        vertical-align: top;\n",
       "    }\n",
       "\n",
       "    .dataframe thead th {\n",
       "        text-align: right;\n",
       "    }\n",
       "</style>\n",
       "<table border=\"1\" class=\"dataframe\">\n",
       "  <thead>\n",
       "    <tr style=\"text-align: right;\">\n",
       "      <th>Caesarian</th>\n",
       "      <th>0</th>\n",
       "      <th>1</th>\n",
       "    </tr>\n",
       "    <tr>\n",
       "      <th>Heart Problem</th>\n",
       "      <th></th>\n",
       "      <th></th>\n",
       "    </tr>\n",
       "  </thead>\n",
       "  <tbody>\n",
       "    <tr>\n",
       "      <th>0</th>\n",
       "      <td>28</td>\n",
       "      <td>22</td>\n",
       "    </tr>\n",
       "    <tr>\n",
       "      <th>1</th>\n",
       "      <td>6</td>\n",
       "      <td>24</td>\n",
       "    </tr>\n",
       "  </tbody>\n",
       "</table>\n",
       "</div>"
      ],
      "text/plain": [
       "Caesarian       0   1\n",
       "Heart Problem        \n",
       "0              28  22\n",
       "1               6  24"
      ]
     },
     "execution_count": 29,
     "metadata": {},
     "output_type": "execute_result"
    }
   ],
   "source": [
    "pd.crosstab(data['Heart Problem'], data['Caesarian'])"
   ]
  },
  {
   "cell_type": "code",
   "execution_count": 30,
   "id": "25d6be56",
   "metadata": {},
   "outputs": [],
   "source": [
    "P0hp0 = 28/34\n",
    "P1hp0 = 6/34\n",
    "\n",
    "P0hp1 = 22/46\n",
    "P1hp1 = 24/46\n",
    "\n",
    "Php0 = 50/80\n",
    "Php1 = 30/80"
   ]
  },
  {
   "cell_type": "raw",
   "id": "aa539625",
   "metadata": {},
   "source": [
    "Studi Kasus 2"
   ]
  },
  {
   "cell_type": "code",
   "execution_count": 31,
   "id": "f9dd116c",
   "metadata": {},
   "outputs": [],
   "source": [
    "# Jika kondisi B dimana\n",
    "# Age = 26\n",
    "# Delivery Number = 2\n",
    "# Delivery Time = 1\n",
    "# Blood of Pressure = 1\n",
    "# Heart Problem = 0\n",
    "# P(A) = Caesarian = Pc1\n",
    "# P(B) = Pdn2, Pdt1, Php0\n",
    "# P(B|A)1 = (Pdn2|Caesarian) = Pdn2c1\n",
    "# P(B|A)2 = (Pdt1|Caesarian) = P1dt1\n",
    "# P(B|A)3 = (Pbp1|Casarian) = P1bp1\n",
    "# P(B|A)4 = (Php0|Casarian) = P0hp1\n",
    "# P(B)1 = Pdn2\n",
    "# P(B)2 = Pdt1\n",
    "# P(B)3 = Pbp1\n",
    "# P(B)4 = Php0\n",
    "\n",
    "# Ditanya P(A|B) ? \n",
    "\n",
    "# --> P(A|B) = P(B|A)*P(A)/P(B)"
   ]
  },
  {
   "cell_type": "code",
   "execution_count": 33,
   "id": "6bdb75f0",
   "metadata": {},
   "outputs": [
    {
     "name": "stdout",
     "output_type": "stream",
     "text": [
      "0.2571619042400664\n"
     ]
    }
   ],
   "source": [
    "PC1 = ((Pdn2c1*P1dt1*P1bp1*P0hp1)*Pc1)/(Pdn2*Pdt1*Pbp1*Php0)\n",
    "print(PC1)"
   ]
  },
  {
   "cell_type": "code",
   "execution_count": 34,
   "id": "1f1c8465",
   "metadata": {},
   "outputs": [],
   "source": [
    "# Jika kondisi B dimana\n",
    "# Age = 26\n",
    "# Delivery Number = 2\n",
    "# Delivery Time = 1\n",
    "# Blood of Pressure = 1\n",
    "# Heart Problem = 0\n",
    "# P(A) = No Caesarian = Pc0\n",
    "# P(B) = Pdn2, Pdt1, Php0\n",
    "# P(B|A)1 = (Pdn2|No Caesarian) = Pdn2c0\n",
    "# P(B|A)2 = (Pdt1|No Caesarian) = P1dt0\n",
    "# P(B|A)3 = (Pbp1|No Casarian) = P1bp0\n",
    "# P(B|A)4 = (Php0|No Casarian) = P0hp0\n",
    "# P(B)1 = Pdn2\n",
    "# P(B)2 = Pdt1\n",
    "# P(B)3 = Pbp1\n",
    "# P(B)4 = Php0\n",
    "\n",
    "# Ditanya P(A|B) ? \n",
    "\n",
    "# --> P(A|B) = P(B|A)*P(A)/P(B)"
   ]
  },
  {
   "cell_type": "code",
   "execution_count": 36,
   "id": "b80af872",
   "metadata": {},
   "outputs": [
    {
     "name": "stdout",
     "output_type": "stream",
     "text": [
      "0.9869613630105003\n"
     ]
    }
   ],
   "source": [
    "PC0 = ((Pdn2c0*P1dt0*P1bp0*P0hp0)*Pc0)/(Pdn2*Pdt1*Pbp1*Php0)\n",
    "print(PC0)"
   ]
  },
  {
   "cell_type": "code",
   "execution_count": 37,
   "id": "fa0eb3d9",
   "metadata": {},
   "outputs": [
    {
     "name": "stdout",
     "output_type": "stream",
     "text": [
      "1.2441232672505667\n"
     ]
    }
   ],
   "source": [
    "PSum = PC1+PC0\n",
    "print(PSum)"
   ]
  },
  {
   "cell_type": "code",
   "execution_count": 38,
   "id": "076a14b9",
   "metadata": {},
   "outputs": [
    {
     "name": "stdout",
     "output_type": "stream",
     "text": [
      "20.67013060597909\n"
     ]
    }
   ],
   "source": [
    "PCaesarian1 = (PC1/PSum) * 100\n",
    "print(PCaesarian1)"
   ]
  },
  {
   "cell_type": "code",
   "execution_count": 40,
   "id": "2dd455fe",
   "metadata": {},
   "outputs": [
    {
     "name": "stdout",
     "output_type": "stream",
     "text": [
      "79.32986939402092\n"
     ]
    }
   ],
   "source": [
    "PCaesarian0 = (PC0/PSum) * 100\n",
    "print(PCaesarian0)"
   ]
  },
  {
   "cell_type": "raw",
   "id": "ace0e613",
   "metadata": {},
   "source": [
    "Dari perhitungan probabilitas mengenai Kelahiran perbadingan antara Proses Kelahiran Sesar dan Tidak sebesar 20,67% dan 79,33%. Dapat disimpulkan Jika kehamilan terjadi pada usia 26 tahun dengan kondisi yang dialami si Ibu adalah Kehamilan kedua, prematur, Tekanan Darah Normal dan Kondisi Jantung apt maka kemungkinan besar tidak akan dilakukan Sectio Sesar"
   ]
  }
 ],
 "metadata": {
  "kernelspec": {
   "display_name": "Python 3",
   "language": "python",
   "name": "python3"
  },
  "language_info": {
   "codemirror_mode": {
    "name": "ipython",
    "version": 3
   },
   "file_extension": ".py",
   "mimetype": "text/x-python",
   "name": "python",
   "nbconvert_exporter": "python",
   "pygments_lexer": "ipython3",
   "version": "3.8.8"
  }
 },
 "nbformat": 4,
 "nbformat_minor": 5
}
